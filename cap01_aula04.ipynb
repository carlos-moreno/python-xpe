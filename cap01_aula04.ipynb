{
  "nbformat": 4,
  "nbformat_minor": 0,
  "metadata": {
    "colab": {
      "provenance": [],
      "authorship_tag": "ABX9TyOF01KRxAJ07hCHFMCdcBwe",
      "include_colab_link": true
    },
    "kernelspec": {
      "name": "python3",
      "display_name": "Python 3"
    },
    "language_info": {
      "name": "python"
    }
  },
  "cells": [
    {
      "cell_type": "markdown",
      "metadata": {
        "id": "view-in-github",
        "colab_type": "text"
      },
      "source": [
        "<a href=\"https://colab.research.google.com/github/carlos-moreno/python-xpe/blob/main/cap01_aula04.ipynb\" target=\"_parent\"><img src=\"https://colab.research.google.com/assets/colab-badge.svg\" alt=\"Open In Colab\"/></a>"
      ]
    },
    {
      "cell_type": "code",
      "execution_count": 10,
      "metadata": {
        "id": "G1jb99_aYgXj",
        "outputId": "7406fcd9-8142-4a6a-f636-edb8b6685c99",
        "colab": {
          "base_uri": "https://localhost:8080/"
        }
      },
      "outputs": [
        {
          "output_type": "stream",
          "name": "stdout",
          "text": [
            "Olá Carlos Augusto, seja Bem-Vindo!\n"
          ]
        }
      ],
      "source": [
        "nome = \"Carlos Augusto\"\n",
        "print(f\"Olá {nome}, seja Bem-Vindo!\")"
      ]
    },
    {
      "cell_type": "code",
      "source": [
        "pessoa = \"Fulano\"\n",
        "print(\"Olá,\", pessoa)"
      ],
      "metadata": {
        "id": "nObBts2_cG_Z",
        "outputId": "8fd9a7c7-ab8a-4407-b1c2-55cda487d582",
        "colab": {
          "base_uri": "https://localhost:8080/"
        }
      },
      "execution_count": 13,
      "outputs": [
        {
          "output_type": "stream",
          "name": "stdout",
          "text": [
            "Olá, Fulano\n"
          ]
        }
      ]
    },
    {
      "cell_type": "code",
      "source": [
        "numero = 1\n",
        "numero + 2"
      ],
      "metadata": {
        "id": "SWK-UhmocZOy",
        "outputId": "af86f2fc-e00d-4ac5-fc5d-4fd2dae7b041",
        "colab": {
          "base_uri": "https://localhost:8080/"
        }
      },
      "execution_count": 14,
      "outputs": [
        {
          "output_type": "execute_result",
          "data": {
            "text/plain": [
              "3"
            ]
          },
          "metadata": {},
          "execution_count": 14
        }
      ]
    }
  ]
}