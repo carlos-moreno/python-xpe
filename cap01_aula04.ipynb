{
  "nbformat": 4,
  "nbformat_minor": 0,
  "metadata": {
    "colab": {
      "provenance": [],
      "authorship_tag": "ABX9TyOF01KRxAJ07hCHFMCdcBwe",
      "include_colab_link": true
    },
    "kernelspec": {
      "name": "python3",
      "display_name": "Python 3"
    },
    "language_info": {
      "name": "python"
    }
  },
  "cells": [
    {
      "cell_type": "markdown",
      "metadata": {
        "id": "view-in-github",
        "colab_type": "text"
      },
      "source": [
        "<a href=\"https://colab.research.google.com/github/carlos-moreno/python-xpe/blob/main/cap01_aula04.ipynb\" target=\"_parent\"><img src=\"https://colab.research.google.com/assets/colab-badge.svg\" alt=\"Open In Colab\"/></a>"
      ]
    },
    {
      "cell_type": "code",
      "execution_count": 1,
      "metadata": {
        "id": "G1jb99_aYgXj",
        "colab": {
          "base_uri": "https://localhost:8080/"
        },
        "outputId": "6a70fc37-552b-4c23-fbd4-dd378a70e518"
      },
      "outputs": [
        {
          "output_type": "stream",
          "name": "stdout",
          "text": [
            "Olá Carlos Augusto, seja Bem-Vindo!\n"
          ]
        }
      ],
      "source": [
        "nome = \"Carlos Augusto\"\n",
        "print(f\"Olá {nome}, seja Bem-Vindo!\")"
      ]
    },
    {
      "cell_type": "code",
      "source": [
        "pessoa = \"Fulano\"\n",
        "print(\"Olá,\", pessoa)"
      ],
      "metadata": {
        "colab": {
          "base_uri": "https://localhost:8080/"
        },
        "id": "nObBts2_cG_Z",
        "outputId": "e8369539-ce63-4f9c-b245-99c9bb1b226a"
      },
      "execution_count": 2,
      "outputs": [
        {
          "output_type": "stream",
          "name": "stdout",
          "text": [
            "Olá, Fulano\n"
          ]
        }
      ]
    },
    {
      "cell_type": "code",
      "source": [
        "numero = 1\n",
        "numero + 2"
      ],
      "metadata": {
        "colab": {
          "base_uri": "https://localhost:8080/"
        },
        "id": "SWK-UhmocZOy",
        "outputId": "5bf6147b-8735-42ec-8a44-13a76014b3f9"
      },
      "execution_count": 3,
      "outputs": [
        {
          "output_type": "execute_result",
          "data": {
            "text/plain": [
              "3"
            ]
          },
          "metadata": {},
          "execution_count": 3
        }
      ]
    }
  ]
}